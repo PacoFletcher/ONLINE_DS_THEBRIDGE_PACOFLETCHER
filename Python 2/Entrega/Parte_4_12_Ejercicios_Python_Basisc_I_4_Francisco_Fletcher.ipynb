{
 "cells": [
  {
   "cell_type": "markdown",
   "metadata": {
    "id": "N4meT9a4EUs_"
   },
   "source": [
    "![TheBridge_logo_RGB_color.jpg](attachment:TheBridge_logo_RGB_color.jpg)"
   ]
  },
  {
   "cell_type": "markdown",
   "metadata": {
    "id": "nfeVlicfEUtA"
   },
   "source": [
    "![imagen](./img/ejercicios.png)"
   ]
  },
  {
   "cell_type": "markdown",
   "metadata": {
    "id": "2bW_87JkEUtA"
   },
   "source": [
    "## EJERCICIOS PYTHON BASICO 4:\n",
    "## Funciones, métodos, listas"
   ]
  },
  {
   "cell_type": "markdown",
   "metadata": {
    "id": "F_RlbVhdEUtA"
   },
   "source": [
    "Completa los siguiente ejercicios, la solución completa a los mismos se publicarán en el repo del curso a lo largo del sprint. En algunos ejercicios se muestra la solución final, para que puedas comprobar que lo has hecho bien, pero lo importante es el código que generes. ¡Vaaamos, a ello...!"
   ]
  },
  {
   "cell_type": "markdown",
   "metadata": {
    "id": "IOf1ge_fEUtB"
   },
   "source": [
    "![ejercicio.png](./img/ejercicio.png)\n",
    "\n",
    "## Ejercicio 1\n",
    "Para este ejercicio vamos a poner en práctica [las funciones built in](https://docs.python.org/3/library/functions.html).\n",
    "\n",
    "1. Calcula el máximo de la lista: [4, 6, 8, -1]\n",
    "2. Suma todos los elementos de la lista anterior\n",
    "3. Redondea este float a 3 dígitos decimales: 63.451256965\n",
    "4. Valor absoluto de: -74"
   ]
  },
  {
   "cell_type": "code",
   "execution_count": 3,
   "metadata": {
    "id": "apzcCJQCEUtC"
   },
   "outputs": [
    {
     "name": "stdout",
     "output_type": "stream",
     "text": [
      "8\n",
      "17\n",
      "64.451\n",
      "74\n"
     ]
    }
   ],
   "source": [
    "lista = [4, 6, 8, -1]\n",
    "print(max(lista))\n",
    "suma = 0\n",
    "for i in lista:\n",
    "    suma = suma + i\n",
    "print(suma)\n",
    "real = 64.451256965\n",
    "aprox = round(real,3)\n",
    "print(aprox)\n",
    "num = -74\n",
    "absoluto = abs(num)\n",
    "print(absoluto)"
   ]
  },
  {
   "cell_type": "markdown",
   "metadata": {
    "id": "82xdkq5bEUtD"
   },
   "source": [
    "![ejercicio.png](./img/ejercicio.png)\n",
    "\n",
    "## Ejercicio 2\n",
    "Para el siguiente string se pide imprimir por pantalla los siguientes casos\n",
    "\n",
    "    \"En un lugar de la Mancha, de cuyo nombre no quiero acordarme.\"\n",
    "\n",
    "1. Pásalo todo a mayúsculas\n",
    "2. Pásalo todo a minúsculas\n",
    "3. Solo la primera letra de cada palabra en mayúscula, el resto en minúscula\n",
    "4. Crea una lista dividiéndolo por sus espacios\n",
    "5. Sustituye las comas `,` por puntos y comas `;`\n",
    "6. Elimina las `a` minúsculas"
   ]
  },
  {
   "cell_type": "code",
   "execution_count": 49,
   "metadata": {
    "id": "HzM5ETkDEUtD",
    "outputId": "2c9530b0-4517-49d7-de53-6c6d019806a2"
   },
   "outputs": [
    {
     "name": "stdout",
     "output_type": "stream",
     "text": [
      "EN UN LUGAR DE LA MANCHA, DE CUYO NOMBRE NO QUIERO ACORDARME.\n",
      "en un lugar de la mancha, de cuyo nombre no quiero acordarme.\n",
      "En Un Lugar De La Mancha, De Cuyo Nombre No Quiero Acordarme. \n",
      "['En', 'un', 'lugar', 'de', 'la', 'Mancha,', 'de', 'cuyo', 'nombre', 'no', 'quiero', 'acordarme.']\n",
      "En un lugar de la Mancha; de cuyo nombre no quiero acordarme.\n",
      "En un lugr de l Mnch, de cuyo nombre no quiero cordrme.\n"
     ]
    }
   ],
   "source": [
    "cadena = \"En un lugar de la Mancha, de cuyo nombre no quiero acordarme.\"\n",
    "\n",
    "print(cadena.upper())\n",
    "print(cadena.lower())\n",
    "\n",
    "lista = cadena.split(\" \")\n",
    "for i in lista:\n",
    "    i = i.capitalize()\n",
    "    print(i, end = \" \")\n",
    "print(\"\")\n",
    "\n",
    "print(lista)\n",
    "print(cadena.replace(\",\",\";\"))\n",
    "print(cadena.replace(\"a\",\"\"))"
   ]
  },
  {
   "cell_type": "markdown",
   "metadata": {
    "id": "6mm32_f5EUtD"
   },
   "source": [
    "![ejercicio.png](./img/ejercicio.png)\n",
    "\n",
    "## Ejercicio 3\n",
    "1. Crea una lista con 3 elementos numéricos\n",
    "2. Añade un cuarto elemento\n",
    "3. Calcula la suma de todos\n",
    "4. Elimina el segundo elemento de la lista\n",
    "5. Añade otro elemento en la posicion 3 de la lista\n",
    "6. Crea otra lista con 4 elementos y concaténala a la que ya tenías.\n",
    "7. Ordena la lista de menor a mayor.\n",
    "8. BONUS: Ordena la lista de mayor a menor.  \n",
    "(*PISTA: Para hacer 8, tendrás que buscar en la información del método...*)  \n",
    "  \n",
    "  \n",
    "NOTA: Pinta por pantalla el resultado de cada paso."
   ]
  },
  {
   "cell_type": "code",
   "execution_count": 64,
   "metadata": {
    "id": "lpHtJDw-EUtD",
    "outputId": "0dd871bb-74b1-41c5-cc08-6432faf83533"
   },
   "outputs": [
    {
     "name": "stdout",
     "output_type": "stream",
     "text": [
      "[1, 2, 3, -2]\n",
      "4\n",
      "[1, 3, -2]\n",
      "[1, 3, -23.14, -2]\n",
      "[1, 3, -23.14, -2, 300, 200, 400, 500]\n",
      "[-23.14, -2, 1, 3, 200, 300, 400, 500]\n",
      "[500, 400, 300, 200, 3, 1, -2, -23.14]\n"
     ]
    }
   ],
   "source": [
    "numeros = [1,2,3]\n",
    "numeros.append(-2)\n",
    "print(numeros)\n",
    "\n",
    "suma = 0\n",
    "for i in numeros:\n",
    "    suma = suma + i\n",
    "print(suma)\n",
    "\n",
    "numeros.pop(1)\n",
    "print(numeros)\n",
    "\n",
    "numeros.insert(2, -23.14)\n",
    "print(numeros)\n",
    "\n",
    "numeros_2 = [300, 200, 400, 500]\n",
    "numeros_new = numeros + numeros_2\n",
    "print(numeros_new)\n",
    "\n",
    "numeros_new.sort()\n",
    "print(numeros_new)\n",
    "\n",
    "numeros_new.reverse()\n",
    "print(numeros_new)"
   ]
  }
 ],
 "metadata": {
  "colab": {
   "provenance": []
  },
  "kernelspec": {
   "display_name": "Python 3 (ipykernel)",
   "language": "python",
   "name": "python3"
  },
  "language_info": {
   "codemirror_mode": {
    "name": "ipython",
    "version": 3
   },
   "file_extension": ".py",
   "mimetype": "text/x-python",
   "name": "python",
   "nbconvert_exporter": "python",
   "pygments_lexer": "ipython3",
   "version": "3.13.1"
  }
 },
 "nbformat": 4,
 "nbformat_minor": 4
}
