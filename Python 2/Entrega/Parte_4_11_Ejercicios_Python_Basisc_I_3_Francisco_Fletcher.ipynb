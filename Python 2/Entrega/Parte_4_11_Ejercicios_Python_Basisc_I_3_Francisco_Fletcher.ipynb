{
 "cells": [
  {
   "cell_type": "markdown",
   "metadata": {
    "id": "VfwqVoyfETvY"
   },
   "source": [
    "![TheBridge_logo_RGB_color.jpg](attachment:TheBridge_logo_RGB_color.jpg)"
   ]
  },
  {
   "cell_type": "markdown",
   "metadata": {
    "id": "d9cHdwi8ETvZ"
   },
   "source": [
    "![imagen](./img/ejercicios.png)"
   ]
  },
  {
   "cell_type": "markdown",
   "metadata": {
    "id": "2ungwWZYETva"
   },
   "source": [
    "## EJERCICIOS PYTHON BASICO 3:\n",
    "## Operaciones matemáticas, comparación y booleanas"
   ]
  },
  {
   "cell_type": "markdown",
   "metadata": {
    "id": "iVvvhO-nETvb"
   },
   "source": [
    "Completa los siguiente ejercicios, la solución completa a los mismos se publicarán en el repo del curso a lo largo del sprint. En algunos ejercicios se muestra la solución final, para que puedas comprobar que lo has hecho bien, pero lo importante es el código que generes. ¡Vaaamos, a ello...!"
   ]
  },
  {
   "cell_type": "markdown",
   "metadata": {
    "id": "hvozvgvCETvb"
   },
   "source": [
    "![ejercicio.png](./img/ejercicio.png)\n",
    "\n",
    "\n",
    "## Ejercicio 1\n",
    "Tenemos las siguientes variables:\n",
    "\n",
    "```Python\n",
    "A = 4\n",
    "B = \"Text\"\n",
    "C = 4.1\n",
    "```\n",
    "\n",
    "Comprueba:\n",
    "1. Si A y B son equivalentes\n",
    "2. Si A y C NO son equivalentes\n",
    "3. Si A es mayor que C\n",
    "4. Si C es menor o igual que A\n",
    "5. Si B NO es equivalente a C"
   ]
  },
  {
   "cell_type": "code",
   "execution_count": 3,
   "metadata": {
    "id": "qM5t9aK-ETvb",
    "outputId": "5ff58623-8ce9-4e0f-8eb4-1df6563f5c50"
   },
   "outputs": [
    {
     "name": "stdout",
     "output_type": "stream",
     "text": [
      "A y B son equivalentes? False\n",
      "A y C no son equivalentes? True\n",
      "A es mayor o igual que C? False\n",
      "C es menor o igual que A? False\n",
      "Be no es equivalente a C? True\n"
     ]
    }
   ],
   "source": [
    "A = 4\n",
    "B = \"Text\"\n",
    "C = 4.1\n",
    "print(\"A y B son equivalentes?\",A == B)\n",
    "print(\"A y C no son equivalentes?\",A != C)\n",
    "print(\"A es mayor o igual que C?\", A >= C)\n",
    "print(\"C es menor o igual que A?\", C <= A)\n",
    "print(\"Be no es equivalente a C?\", B != C)"
   ]
  },
  {
   "cell_type": "markdown",
   "metadata": {
    "id": "7vIirq5WETvc"
   },
   "source": [
    "![ejercicio.png](./img/ejercicio.png)\n",
    "\n",
    "## Ejercicio 2\n",
    "Crea un programa donde se recojan dos inputs del usuario, y el output del programa sea si esos inputs son iguales o no"
   ]
  },
  {
   "cell_type": "code",
   "execution_count": 4,
   "metadata": {
    "id": "HzEsQJyrETvc"
   },
   "outputs": [
    {
     "name": "stdin",
     "output_type": "stream",
     "text": [
      "introduce el primer input asfj\n",
      "introduce el segundo input asldjf\n"
     ]
    },
    {
     "name": "stdout",
     "output_type": "stream",
     "text": [
      "los inputs NO son iguales\n"
     ]
    }
   ],
   "source": [
    "input1 = input(\"introduce el primer input\")\n",
    "input2 = input(\"introduce el segundo input\")\n",
    "if input1 == input2:\n",
    "    print(\"los inputs son iguales\")\n",
    "else:\n",
    "    print(\"los inputs NO son iguales\") "
   ]
  },
  {
   "cell_type": "markdown",
   "metadata": {
    "id": "NCBKij1AETvc"
   },
   "source": [
    "![ejercicio.png](./img/ejercicio.png)\n",
    "\n",
    "## Ejercicio 3\n",
    "Mismo programa que en 2, pero en esta ocasión tienen que ser tres inputs y dos salidas. Una de las salidas que nos indique si todos son iguales, y la otra si al menos dos inputs sí que lo son"
   ]
  },
  {
   "cell_type": "code",
   "execution_count": 5,
   "metadata": {
    "id": "b7fPGRLUETve",
    "outputId": "40f94199-6932-43af-cbde-d588181b054a"
   },
   "outputs": [
    {
     "name": "stdin",
     "output_type": "stream",
     "text": [
      "introduce el primer input a \n",
      "introduce el segundo input a\n",
      "introduce el tercer input a\n"
     ]
    },
    {
     "name": "stdout",
     "output_type": "stream",
     "text": [
      "Todos son iguales:False\n",
      "Al menos dos son igualesTrue\n"
     ]
    }
   ],
   "source": [
    "a = input(\"introduce el primer input\")\n",
    "b = input(\"introduce el segundo input\")\n",
    "c = input(\"introduce el tercer input\")\n",
    "\n",
    "print(\"Todos son iguales:\", end = \"\")\n",
    "if (a == b and b == c):\n",
    "    print(True)\n",
    "else:\n",
    "    print(False)\n",
    "print(\"Al menos dos son iguales\", end = \"\")\n",
    "if (a == b or a == c or b == c):\n",
    "    print(True)\n",
    "else:\n",
    "    print(False)\n",
    "\n"
   ]
  },
  {
   "cell_type": "markdown",
   "metadata": {
    "id": "wZGuYC7gETve"
   },
   "source": [
    "![ejercicio.png](./img/ejercicio.png)\n",
    "\n",
    "## Ejercicio 4\n",
    "Razona sin ejecutar código el output que obtendremos de las siguientes sentencias\n",
    "1. True and True and False\n",
    "2. not ((True or False) and (True or False))\n",
    "3. (False or False or False or True) and False\n",
    "4. not False and True and not True"
   ]
  },
  {
   "cell_type": "markdown",
   "metadata": {
    "id": "SPsMwN3lETve"
   },
   "source": [
    "1. En el primer caso el output será `False` ya que con la condición `and` todos los elementos deben ser `True` para que el resultado sea `True`.\n",
    "2. Tanto en la primera como en la segunda cláusula, el resultado es `True` ya que con el operador `or` solo se necesita un valor `True` para que esta sea cierta, dando como resultado que el operador `and` retorne un `True`, pero al estar el operador `not` delante, el output final será `False`. \n",
    "3. De la misma manera que en el anterior apartado, la primera cláusula es `True`, pero el output final será `False`.\n",
    "4. Finalmente, el resultado vuelve a ser `False` ya que la última cláusula es `False`. "
   ]
  }
 ],
 "metadata": {
  "colab": {
   "provenance": []
  },
  "kernelspec": {
   "display_name": "Python 3 (ipykernel)",
   "language": "python",
   "name": "python3"
  },
  "language_info": {
   "codemirror_mode": {
    "name": "ipython",
    "version": 3
   },
   "file_extension": ".py",
   "mimetype": "text/x-python",
   "name": "python",
   "nbconvert_exporter": "python",
   "pygments_lexer": "ipython3",
   "version": "3.13.1"
  }
 },
 "nbformat": 4,
 "nbformat_minor": 4
}
