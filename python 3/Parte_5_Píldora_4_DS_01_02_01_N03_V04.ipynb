{
 "cells": [
  {
   "cell_type": "markdown",
   "metadata": {
    "id": "Bb4dTufCnLMo"
   },
   "source": [
    "![TheBridge_Python_v0.png](attachment:TheBridge_Python_v0.png)"
   ]
  },
  {
   "cell_type": "markdown",
   "metadata": {
    "id": "J_eiNBmPnLMr"
   },
   "source": [
    "## Colecciones Python: Diccionarios\n"
   ]
  },
  {
   "cell_type": "markdown",
   "metadata": {
    "id": "RoazOaecnLMv"
   },
   "source": [
    "### Contenidos\n"
   ]
  },
  {
   "cell_type": "markdown",
   "metadata": {
    "id": "fSf18I27nLMw"
   },
   "source": [
    "* [Introducción](#Introducción)\n",
    "\n",
    "* [Acceso, modificación, añadir, eliminar](#Acceso,-modificación,-añadir,-eliminar)\n",
    "\n",
    "* [Iterar](#Iterar)\n",
    "\n"
   ]
  },
  {
   "cell_type": "markdown",
   "metadata": {
    "id": "H6Y7ZV7-nLMx"
   },
   "source": [
    "### Introducción\n",
    "[al indice](#Contenidos)  \n",
    "\n",
    "En este tipo de colecciones no solo podemos agrupar datos, sino que tenemos la posibilidad de establecer una relación entre los mismos, con la forma **clave: valor**.\n",
    "\n",
    "La sintaxis  es mediante llaves `{}`\n",
    "\n",
    "> nombre_diccionario = {clave1: valor1, clave2: valor2, clave3: valor3}\n",
    "\n",
    "Si veíamos que las listas son elementos mutables y y ordenadas, y las tuplas inmutables y ordenadas, los diccionarios son:\n",
    "\n",
    "* **Mutables**: podemos modificar sus elementos\n",
    "* **Desordenado**: la potencia de acceso de los diccionarios es su formato clave-valor, no su orden. Aun así, el dicionario conserva el orden de los elemento según los vamos insertando.\n",
    "\n",
    "Vamos a declarar un diccionario en el que definiremos elementos de un coche"
   ]
  },
  {
   "cell_type": "code",
   "execution_count": 1,
   "metadata": {
    "id": "wEVt7buWnLMy"
   },
   "outputs": [
    {
     "data": {
      "text/plain": [
       "{'Color': 'Rojo',\n",
       " 'Marca': 'Tesla',\n",
       " 'Modelo': 'Cybertruck',\n",
       " 'Peso': 3500,\n",
       " 'Cambio automatico': True}"
      ]
     },
     "execution_count": 1,
     "metadata": {},
     "output_type": "execute_result"
    }
   ],
   "source": [
    "coche_dict = {\n",
    "    \"Color\":\"Rojo\",\n",
    "    \"Marca\":\"Tesla\",\n",
    "    \"Modelo\":\"Cybertruck\",\n",
    "    \"Peso\": 3500,\n",
    "    \"Cambio automatico\": True\n",
    "}\n",
    "coche_dict"
   ]
  },
  {
   "cell_type": "markdown",
   "metadata": {
    "id": "RsjcNDt6nLMy"
   },
   "source": [
    "Se puede almacenar todo tipo de datos: numero, cadena, booleano, listas, tuplas, diccionarios...\n",
    "\n",
    "Cuando declaremos el diccionario, lo podemos hacer en una sola linea `coche = {\"color\"=\"Gris\", \"marca\"...}`, aunque se recomienda por sencillez a la hora de leer el código, realizar esta acción en varias líneas. Si escribimos el primer elemento y presionamos enter, Jupyter introduce automáticamente la tabulación."
   ]
  },
  {
   "cell_type": "markdown",
   "metadata": {
    "id": "jC48FeB8nLMz"
   },
   "source": [
    "### Acceso, modificación, añadir, eliminar\n",
    "[al indice](#Contenidos)  \n",
    "\n"
   ]
  },
  {
   "cell_type": "code",
   "execution_count": 9,
   "metadata": {
    "id": "Fugpy2X7nLM0"
   },
   "outputs": [
    {
     "name": "stdout",
     "output_type": "stream",
     "text": [
      "['Rojo', 'Gris']\n",
      "3500\n",
      "{'Color': ['Rojo', 'Gris'], 'Marca': 'Tesla', 'Modelo': 'Cybertruck', 'Peso': 3500, 'Cambio automatico': True}\n",
      "6\n",
      "{'Color': ['Rojo', 'Gris'], 'Marca': 'Tesla', 'Modelo': 'Cybertruck', 'Peso': 3500, 'Cambio automatico': True}\n",
      "dict_keys(['Color', 'Marca', 'Modelo', 'Peso', 'Cambio automatico'])\n",
      "dict_values([['Rojo', 'Gris'], 'Tesla', 'Cybertruck', 3500, True])\n"
     ]
    }
   ],
   "source": [
    "#Acceso\n",
    "print(coche_dict[\"Color\"])\n",
    "print(coche_dict[\"Peso\"])\n",
    "\n",
    "coche_dict[\"Color\"] = [\"Rojo\",\"Gris\"]\n",
    "print(coche_dict)\n",
    "\n",
    "coche_dict[\"Puertas\"] = 6\n",
    "print(coche_dict[\"Puertas\"])\n",
    "\n",
    "# Eliminar elementos\n",
    "del coche_dict[\"Puertas\"]\n",
    "print(coche_dict)\n",
    "\n",
    "print(coche_dict.keys())\n",
    "\n",
    "print(coche_dict.values())"
   ]
  },
  {
   "cell_type": "markdown",
   "metadata": {
    "id": "dNjt086KnLM0"
   },
   "source": [
    "Para más detalle de los métodos de los diccionario puedes [consultar la documentación](https://www.w3schools.com/python/python_ref_dictionary.asp)"
   ]
  },
  {
   "cell_type": "code",
   "execution_count": 11,
   "metadata": {
    "id": "NqJnw30-nLM0"
   },
   "outputs": [
    {
     "name": "stdout",
     "output_type": "stream",
     "text": [
      "{'Direcccion': 'Montesa 12', 'Tamaño': 123}\n"
     ]
    }
   ],
   "source": [
    "# Podemos empezar tambien mediante un diccionario vacío\n",
    "tienda = {}\n",
    "tienda[\"Direcccion\"] = \"Montesa 12\"\n",
    "tienda[\"Tamaño\"] = 123\n",
    "print(tienda)"
   ]
  },
  {
   "cell_type": "markdown",
   "metadata": {
    "id": "NPR44tZInLM1"
   },
   "source": [
    "<table align=\"left\">\n",
    " <tr>\n",
    "     <td style=\"text-align:left\">\n",
    "         <h3>ERRORES en diccionarios</h3>\n",
    "         \n",
    " </td></tr>\n",
    "</table>"
   ]
  },
  {
   "cell_type": "markdown",
   "metadata": {
    "id": "-fbC2_YdnLM1"
   },
   "source": [
    "Si hay una clave que no existe en el diccionario, saltará un error.\n",
    "\n",
    "En este caso, el error es bastante intuitivo: `KeyError`, no encuentra la clave"
   ]
  },
  {
   "cell_type": "code",
   "execution_count": 12,
   "metadata": {
    "id": "PyPphDR2nLM3"
   },
   "outputs": [
    {
     "ename": "NameError",
     "evalue": "name 'coche_dir' is not defined",
     "output_type": "error",
     "traceback": [
      "\u001b[1;31m---------------------------------------------------------------------------\u001b[0m",
      "\u001b[1;31mNameError\u001b[0m                                 Traceback (most recent call last)",
      "Cell \u001b[1;32mIn[12], line 1\u001b[0m\n\u001b[1;32m----> 1\u001b[0m \u001b[43mcoche_dir\u001b[49m[\u001b[38;5;124m\"\u001b[39m\u001b[38;5;124mPuertas\u001b[39m\u001b[38;5;124m\"\u001b[39m]\n",
      "\u001b[1;31mNameError\u001b[0m: name 'coche_dir' is not defined"
     ]
    }
   ],
   "source": [
    "coche_dir[\"Puertas\"]"
   ]
  },
  {
   "cell_type": "markdown",
   "metadata": {
    "id": "ozqUZNthnLM3"
   },
   "source": [
    "**¿Cómo solventar esto?** Sirmpre tienes la opción de usar el bloque `try/except`, pero en este caso, los diccionarios tienen una solución más elegante: `mi_diccionario.get(clave, valor si no existe)`"
   ]
  },
  {
   "cell_type": "code",
   "execution_count": 13,
   "metadata": {
    "id": "Uw-UvfLenLM3"
   },
   "outputs": [
    {
     "name": "stdout",
     "output_type": "stream",
     "text": [
      "4\n",
      "Tesla\n"
     ]
    }
   ],
   "source": [
    "numero_de_puertas = coche_dict.get(\"Puertas\",4)\n",
    "print(numero_de_puertas)\n",
    "marca = coche_dict.get(\"Marca\", \"Desconocida\")\n",
    "print(marca)"
   ]
  },
  {
   "cell_type": "markdown",
   "metadata": {
    "id": "dCvct7VMnLM3"
   },
   "source": [
    "### Iterar\n",
    "[al indice](#Contenidos)  \n",
    "\n",
    "Que el diccionario no esté ordenado, no quiere decir que no podamos iterar sus elementos, ya que también es un **interable**, como los son las listas o las tuplas."
   ]
  },
  {
   "cell_type": "code",
   "execution_count": 15,
   "metadata": {
    "id": "EojWZjCpnLM4"
   },
   "outputs": [
    {
     "name": "stdout",
     "output_type": "stream",
     "text": [
      "Color\n",
      "['Rojo', 'Gris']\n",
      "Marca\n",
      "Tesla\n",
      "Modelo\n",
      "Cybertruck\n",
      "Peso\n",
      "3500\n",
      "Cambio automatico\n",
      "True\n"
     ]
    }
   ],
   "source": [
    "for i in coche_dict:\n",
    "    print(i)\n",
    "    print(coche_dict[i])"
   ]
  },
  {
   "cell_type": "code",
   "execution_count": 16,
   "metadata": {
    "id": "F4ao9qGonLM4"
   },
   "outputs": [
    {
     "name": "stdout",
     "output_type": "stream",
     "text": [
      "Color : ['Rojo', 'Gris']\n",
      "Marca : Tesla\n",
      "Modelo : Cybertruck\n",
      "Peso : 3500\n",
      "Cambio automatico : True\n"
     ]
    }
   ],
   "source": [
    "for i in coche_dict:\n",
    "    print(i, \":\", coche_dict[i])"
   ]
  },
  {
   "cell_type": "code",
   "execution_count": 17,
   "metadata": {},
   "outputs": [
    {
     "data": {
      "text/plain": [
       "dict_items([('Color', ['Rojo', 'Gris']), ('Marca', 'Tesla'), ('Modelo', 'Cybertruck'), ('Peso', 3500), ('Cambio automatico', True)])"
      ]
     },
     "execution_count": 17,
     "metadata": {},
     "output_type": "execute_result"
    }
   ],
   "source": [
    "coche_dict.items()"
   ]
  },
  {
   "cell_type": "code",
   "execution_count": 18,
   "metadata": {},
   "outputs": [
    {
     "name": "stdout",
     "output_type": "stream",
     "text": [
      "Color : ['Rojo', 'Gris']\n",
      "Marca : Tesla\n",
      "Modelo : Cybertruck\n",
      "Peso : 3500\n",
      "Cambio automatico : True\n"
     ]
    }
   ],
   "source": [
    "for clave, valor in coche_dict.items():\n",
    "    print(clave, \":\", valor)"
   ]
  }
 ],
 "metadata": {
  "colab": {
   "provenance": []
  },
  "kernelspec": {
   "display_name": "Python 3 (ipykernel)",
   "language": "python",
   "name": "python3"
  },
  "language_info": {
   "codemirror_mode": {
    "name": "ipython",
    "version": 3
   },
   "file_extension": ".py",
   "mimetype": "text/x-python",
   "name": "python",
   "nbconvert_exporter": "python",
   "pygments_lexer": "ipython3",
   "version": "3.13.1"
  }
 },
 "nbformat": 4,
 "nbformat_minor": 4
}
