{
 "cells": [
  {
   "cell_type": "markdown",
   "metadata": {
    "id": "tuJ1ftnqqW6P"
   },
   "source": [
    "![TheBridge_Python_v0.png](attachment:TheBridge_Python_v0.png)"
   ]
  },
  {
   "cell_type": "markdown",
   "metadata": {
    "id": "uT1uAqX_qW6Q"
   },
   "source": [
    "##  Argumentos posicionales\n"
   ]
  },
  {
   "cell_type": "markdown",
   "metadata": {
    "id": "qjkP1-J7qW6R"
   },
   "source": [
    "### Contenidos\n"
   ]
  },
  {
   "cell_type": "markdown",
   "metadata": {
    "id": "k7K4CtPQqW6R"
   },
   "source": [
    "* [Introducción  ](#Introducción--)\n"
   ]
  },
  {
   "cell_type": "markdown",
   "metadata": {
    "id": "_jjR6qxaqW6S"
   },
   "source": [
    "### Introducción  \n",
    "[al indice](#Contenidos)  \n",
    "\n",
    "Puedes implementar funciones con todos los argumentos que quieras. Ahora bien, ten en cuenta dos cosas:\n",
    "\n",
    "1. **El orden** de los argumentos. Cuando llamemos a la función, tenemos que seguir el mismo orden de argumentos que en la declaración de la función.\n",
    "2. **Son obligatorios**. Si los declaramos en la función, después al llamarla, tenemos que poner todos sus argumentos. Luego veremos que hay una manera de poner argumentos opcionales."
   ]
  },
  {
   "cell_type": "code",
   "execution_count": 2,
   "metadata": {
    "id": "LMERQEjGqW6S"
   },
   "outputs": [
    {
     "data": {
      "text/plain": [
       "14.4"
      ]
     },
     "execution_count": 2,
     "metadata": {},
     "output_type": "execute_result"
    }
   ],
   "source": [
    "def multiplica(x1,x2,x3,x4):\n",
    "    resultado = (x1*x2*x3)/x4\n",
    "    return resultado\n",
    "\n",
    "multiplica(3,4,6,5)"
   ]
  },
  {
   "cell_type": "code",
   "execution_count": 3,
   "metadata": {},
   "outputs": [
    {
     "data": {
      "text/plain": [
       "10.0"
      ]
     },
     "execution_count": 3,
     "metadata": {},
     "output_type": "execute_result"
    }
   ],
   "source": [
    "multiplica(x1 = 3, x4 = 6, x3 = 5, x2 = 4)"
   ]
  },
  {
   "cell_type": "markdown",
   "metadata": {
    "id": "v1P2nqylqW6S"
   },
   "source": [
    "Fijate que los argumentos siguen un determinado orden: x1, x2, x3, x4. Cuando llamamos a la función, introduciremos 4 argumentos y la función los recogerá en ese orden. Asignará 4 a x1, 6 a x2, etc. Podemos también especificar el nombre del argumento en la llamada, lo que nos permite tener mayor flexibilidad en el orden."
   ]
  },
  {
   "cell_type": "code",
   "execution_count": null,
   "metadata": {
    "id": "r4RXb52xqW6S"
   },
   "outputs": [],
   "source": []
  },
  {
   "cell_type": "markdown",
   "metadata": {
    "id": "ARqc3nyNqW6T"
   },
   "source": [
    "<table align=\"left\">\n",
    " <tr>\n",
    "     <td style=\"text-align:left\">\n",
    "         <h3>ERRORES Traza del error dentro de la función</h3>\n",
    "         \n",
    " </td></tr>\n",
    "</table>"
   ]
  },
  {
   "cell_type": "code",
   "execution_count": 5,
   "metadata": {
    "id": "pVlzz-2LqW6T"
   },
   "outputs": [
    {
     "name": "stdout",
     "output_type": "stream",
     "text": [
      "division by zero\n",
      "Error en la función\n"
     ]
    }
   ],
   "source": [
    "try: \n",
    "    multiplica(x4 = 0, x1 = 3, x2 = 5, x3 = 12)\n",
    "except Exception as ex:\n",
    "    print(ex)\n",
    "    print(\"Error en la función\")"
   ]
  },
  {
   "cell_type": "markdown",
   "metadata": {
    "id": "GmdrloxeqW6T"
   },
   "source": [
    "Fijate que aparece toda la traza del error, tanto la línea donde llamas a la función, como el error dentro de la función. Podemos solventar el error, introduciendo un bloque `try/except`"
   ]
  },
  {
   "cell_type": "code",
   "execution_count": 6,
   "metadata": {
    "id": "g3r68SttqW6T"
   },
   "outputs": [],
   "source": [
    "def multiplica(x1,x2,x3,x4):\n",
    "    if x4 == 0:\n",
    "        print(\"Error: No puedo dividir entre 0, argumento x4 inválido\")\n",
    "    else:\n",
    "        reultado = x1*x2*x3/x4\n",
    "        return resultado"
   ]
  }
 ],
 "metadata": {
  "colab": {
   "provenance": []
  },
  "kernelspec": {
   "display_name": "Python 3 (ipykernel)",
   "language": "python",
   "name": "python3"
  },
  "language_info": {
   "codemirror_mode": {
    "name": "ipython",
    "version": 3
   },
   "file_extension": ".py",
   "mimetype": "text/x-python",
   "name": "python",
   "nbconvert_exporter": "python",
   "pygments_lexer": "ipython3",
   "version": "3.13.1"
  }
 },
 "nbformat": 4,
 "nbformat_minor": 4
}
