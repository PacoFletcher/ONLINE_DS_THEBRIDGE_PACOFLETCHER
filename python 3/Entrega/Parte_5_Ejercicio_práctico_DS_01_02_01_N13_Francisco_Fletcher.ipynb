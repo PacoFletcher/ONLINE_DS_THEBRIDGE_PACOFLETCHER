{
 "cells": [
  {
   "cell_type": "markdown",
   "metadata": {
    "id": "9l3HMgm6RWxF"
   },
   "source": [
    "![TheBridge_logo_RGB_color.jpg](attachment:TheBridge_logo_RGB_color.jpg)"
   ]
  },
  {
   "cell_type": "markdown",
   "metadata": {
    "id": "RGg9iWpoRWxG"
   },
   "source": [
    "![ejercicios.png](attachment:ejercicios.png)"
   ]
  },
  {
   "cell_type": "markdown",
   "metadata": {
    "id": "AyOlWS2nRWxH"
   },
   "source": [
    "## PRACTICA OBLIGATORIA: COLECCIONES Y FUNCIONES"
   ]
  },
  {
   "cell_type": "markdown",
   "metadata": {
    "id": "6UOgb0KVRWxH"
   },
   "source": [
    "* La práctica obligatoria de esta unidad consiste varios ejercicios de programación libre a completar sobre Colecciones y Funciones. Descarga este notebook en tu ordenador y trabaja en local.  \n",
    "* Recuerda que debes subirla a tu repositorio personal antes de la sesión en vivo para que puntúe adecuadamente y puedas participar en dicha sesión.  \n",
    "* Recuerda también que no es necesario que esté perfecta, sólo es necesario que se vea el esfuerzo.\n",
    "* Esta práctica se resolverá en la sesión en vivo correspondiente y la solución se publicará en el repo del curso."
   ]
  },
  {
   "cell_type": "markdown",
   "metadata": {
    "id": "j3yu-tEjRWxH"
   },
   "source": [
    "### Contenidos"
   ]
  },
  {
   "cell_type": "markdown",
   "metadata": {
    "id": "kO-fLH39RWxH"
   },
   "source": [
    "## Ejercicio 1\n",
    "Eleva todos los elementos de la lista al cuadrado\n",
    "> ```ejer_2 = [1,2,3,4,5]```"
   ]
  },
  {
   "cell_type": "code",
   "execution_count": 14,
   "metadata": {
    "id": "ks5l3yi7RWxH"
   },
   "outputs": [
    {
     "name": "stdout",
     "output_type": "stream",
     "text": [
      "[1, 4, 9, 16, 25]\n"
     ]
    }
   ],
   "source": [
    "ejer_2 = [1,2,3,4,5]\n",
    "for i in range(len(ejer_2)):\n",
    "    ejer_2[i] = ejer_2[i]**2\n",
    "print(ejer_2)"
   ]
  },
  {
   "cell_type": "markdown",
   "metadata": {
    "id": "kI_Xr5oFRWxI"
   },
   "source": [
    "## Ejercicio 2\n",
    "Haz un programa que detecte todos los duplicados de un elemento en una lista:\n",
    "* Utiliza una variable duplicado para asignarle el valor del elemento del que queremos encontrar todos sus duplicados.\n",
    "* El programa debe devolver todos los índices de los elementos duplicados.\n",
    "* Aplícalo para encontrar los duplicados de \"un\", \"es\" y \"binario\" de:  \n",
    "\n",
    ">```ejer_3 = [\"Un\", \"árbol\", \"binario\", \"es\", \"una\", \"estructura\", \"de\", \"un\", \"tipo\", \"particular\", \"a\", \"veces\", \"no\", \"es\", \"ni\", \"binario\"]```\n"
   ]
  },
  {
   "cell_type": "code",
   "execution_count": 29,
   "metadata": {
    "id": "cLY9WB7YRWxI"
   },
   "outputs": [
    {
     "name": "stdout",
     "output_type": "stream",
     "text": [
      "un aparece en las posiciones\n",
      "0\n",
      "7\n",
      "es aparece en las posiciones\n",
      "3\n",
      "13\n",
      "binario aparece en las posiciones\n",
      "2\n",
      "15\n"
     ]
    }
   ],
   "source": [
    "ejer_3 = [\"Un\", \"árbol\", \"binario\", \"es\", \"una\", \"estructura\", \"de\", \"un\", \"tipo\", \"particular\", \"a\", \"veces\", \"no\", \"es\", \"ni\", \"binario\"]\n",
    "comp = [\"un\",\"es\",\"binario\"]\n",
    "for i in comp:\n",
    "    print(i, \"aparece en las posiciones\")\n",
    "    for j in range(len(ejer_3)):\n",
    "        if i == ejer_3[j].lower():\n",
    "            print(j)\n"
   ]
  },
  {
   "cell_type": "markdown",
   "metadata": {
    "id": "3WrBd5QaRWxI"
   },
   "source": [
    "## Ejercicio 3\n",
    "1. ¿Cuántas veces se repite el 3 en la siguiente tupla?\n",
    "2. Crea una tupla nueva con los elementos desde la posicion 5 a la 10.\n",
    "3. ¿Cuántos elementos tiene la tupla `ejer_3`?\n",
    "> ```ejer_9 = (3, 20, 3, 47, 19, 3, 29, 45, 67, 78, 90, 3, 3, 5, 2, 4, 7, 9, 4, 2, 4, 3, 3, 4, 6, 7)```"
   ]
  },
  {
   "cell_type": "code",
   "execution_count": 20,
   "metadata": {
    "id": "bkv_R5LYRWxI"
   },
   "outputs": [
    {
     "name": "stdout",
     "output_type": "stream",
     "text": [
      "el numero 3 aparece 7 veces\n",
      "(3, 29, 45, 67, 78, 90)\n",
      "ejer_3 tiene 16 elementos\n"
     ]
    }
   ],
   "source": [
    "ejer_9 = (3, 20, 3, 47, 19, 3, 29, 45, 67, 78, 90, 3, 3, 5, 2, 4, 7, 9, 4, 2, 4, 3, 3, 4, 6, 7)\n",
    "print(\"el numero 3 aparece\", ejer_9.count(3), \"veces\")\n",
    "tupla = ejer_9[5:11]\n",
    "print(tupla)\n",
    "print(\"ejer_3 tiene\", len(ejer_3), \"elementos\")"
   ]
  },
  {
   "cell_type": "markdown",
   "metadata": {
    "id": "6g8Y54AeRWxI"
   },
   "source": [
    "## Ejercicio 4\n",
    "Comprueba si el numero 60 esta en la tupla del ejercicio 3"
   ]
  },
  {
   "cell_type": "code",
   "execution_count": 23,
   "metadata": {
    "id": "F8VTEZonRWxI"
   },
   "outputs": [
    {
     "name": "stdout",
     "output_type": "stream",
     "text": [
      "60 está en la tupla? False\n"
     ]
    }
   ],
   "source": [
    "find = False\n",
    "for i in ejer_9:\n",
    "    if i == 60:\n",
    "        find = True\n",
    "print(\"60 está en la tupla?\", find)"
   ]
  },
  {
   "cell_type": "markdown",
   "metadata": {
    "id": "y0fg-ZA6RWxI"
   },
   "source": [
    "## Ejercicio 5\n",
    "1. Convierte la tupla del ejercicio 3 en una lista\n",
    "2. Convierte la tupla del ejercicio 3 en un set\n",
    "3. Convierte la tupla del ejercicio 3 en un diccionario. Usa también los indices"
   ]
  },
  {
   "cell_type": "code",
   "execution_count": 24,
   "metadata": {
    "id": "_O5hXr01RWxI"
   },
   "outputs": [
    {
     "name": "stdout",
     "output_type": "stream",
     "text": [
      "<class 'list'>\n",
      "[3, 20, 3, 47, 19, 3, 29, 45, 67, 78, 90, 3, 3, 5, 2, 4, 7, 9, 4, 2, 4, 3, 3, 4, 6, 7]\n"
     ]
    }
   ],
   "source": [
    "lis1 = list(ejer_9)\n",
    "print(type(lis1))\n",
    "print(lis1)"
   ]
  },
  {
   "cell_type": "markdown",
   "metadata": {
    "id": "eOdWWbxvRWxJ"
   },
   "source": [
    "## Ejercicio 6\n",
    "Multiplica todos los valores del diccionario\n",
    "> ```ejer_6 = {1: 11, 2: 22, 3: 33, 4: 44, 5: 55}```"
   ]
  },
  {
   "cell_type": "code",
   "execution_count": 28,
   "metadata": {
    "id": "KcuByovKRWxJ"
   },
   "outputs": [
    {
     "name": "stdout",
     "output_type": "stream",
     "text": [
      "19326120\n"
     ]
    }
   ],
   "source": [
    "ejer_6 = {1: 11, 2: 22, 3: 33, 4: 44, 5: 55}\n",
    "res = 1\n",
    "for i in ejer_6:\n",
    "    res = res*ejer_6[i]\n",
    "print(res)"
   ]
  },
  {
   "cell_type": "markdown",
   "metadata": {
    "id": "W7TUSaKRRWxJ"
   },
   "source": [
    "## Ejercicio 7\n",
    "\n",
    "1. Crea un diccionario que describa un libro, con los siguientes campos o claves: \"titulo\",\"autor\",\"idioma original\",\"año de publicación\".\n",
    "2. Crea un a lista, llamada librería.\n",
    "3. Añade cuatro libros a tu elección a la librería."
   ]
  },
  {
   "cell_type": "code",
   "execution_count": 21,
   "metadata": {
    "id": "d-IMRvxRRWxJ",
    "vscode": {
     "languageId": "plaintext"
    }
   },
   "outputs": [
    {
     "name": "stdout",
     "output_type": "stream",
     "text": [
      "<class 'dict'>\n",
      "titulo : ['Platero y yo', 'El Quijote de la Mancha', 'Cien años de soledad', 'Mortadelo y Filemón']\n",
      "autor : ['Juan Ramón Juménez', 'Miguel de Cervantes', 'Gabriel García Márquez', 'Francisco Ibáñez']\n",
      "idioma original : ['Español', 'Español', 'Español', 'Español']\n",
      "año de publicación : [1950, 1960, 1970, 1980]\n"
     ]
    }
   ],
   "source": [
    "dic1 = {\"titulo\":\"\",\"autor\":\"\",\"idioma original\":\"\", \"año de publicación\":\"\"}\n",
    "print(type(dic1))\n",
    "libreria = []\n",
    "libreria.append(\"Platero y yo\")\n",
    "libreria.append(\"El Quijote de la Mancha\")\n",
    "libreria.append(\"Cien años de soledad\")\n",
    "libreria.append(\"Mortadelo y Filemón\")\n",
    "autores = [\"Juan Ramón Juménez\", \"Miguel de Cervantes\", \"Gabriel García Márquez\", \"Francisco Ibáñez\"]\n",
    "idioma = [\"Español\",\"Español\",\"Español\",\"Español\"]\n",
    "año = [1950,1960,1970,1980]\n",
    "dic1.update({\"titulo\": libreria})\n",
    "dic1.update({\"autor\":autores})\n",
    "dic1.update({\"idioma original\":idioma})\n",
    "dic1.update({\"año de publicación\":año})\n",
    "dic1[\"titulo\"]\n",
    "for i in dic1:\n",
    "    print(i, \":\", dic1[i])\n"
   ]
  },
  {
   "cell_type": "markdown",
   "metadata": {
    "id": "glMoedjYRWxJ"
   },
   "source": [
    "## Ejercicio 8\n",
    "Modifica los valores del idioma de todos los libros del ejercicio anterior para que sea \"esperanto\"\n"
   ]
  },
  {
   "cell_type": "code",
   "execution_count": 24,
   "metadata": {
    "id": "veNdC-uwRWxJ"
   },
   "outputs": [
    {
     "name": "stdout",
     "output_type": "stream",
     "text": [
      "titulo : ['Platero y yo', 'El Quijote de la Mancha', 'Cien años de soledad', 'Mortadelo y Filemón']\n",
      "autor : ['Juan Ramón Juménez', 'Miguel de Cervantes', 'Gabriel García Márquez', 'Francisco Ibáñez']\n",
      "idioma original : ['esperanto', 'esperanto', 'esperanto', 'esperanto']\n",
      "año de publicación : [1950, 1960, 1970, 1980]\n"
     ]
    }
   ],
   "source": [
    "for i in range(len(dic1[\"idioma original\"])):\n",
    "    dic1[\"idioma original\"][i] = \"esperanto\"\n",
    "for i in dic1:\n",
    "    print(i, \":\",dic1[i])\n"
   ]
  },
  {
   "cell_type": "markdown",
   "metadata": {
    "id": "DRCJG04KRWxJ"
   },
   "source": [
    "## Ejercicio 9\n",
    "1. Escribe un programa que dada una variable titulo busque los libros que hay en la librería con ese título. Si no se encuentra debe devolver el mensaje `Ese no lo tengo, ¿mola?`\n",
    "2. Pruena que el programa con uno de tus libros y con otro que no contenga tu librería."
   ]
  },
  {
   "cell_type": "code",
   "execution_count": 27,
   "metadata": {
    "id": "eWHdJi9BRWxJ"
   },
   "outputs": [
    {
     "name": "stdin",
     "output_type": "stream",
     "text": [
      "Introduce el nombre de un libro: Harry Potter\n"
     ]
    },
    {
     "name": "stdout",
     "output_type": "stream",
     "text": [
      "Ese no lo tengo, ¿mola?\n"
     ]
    }
   ],
   "source": [
    "var = input(\"Introduce el nombre de un libro:\")\n",
    "if dic1[\"titulo\"].count(var) == 0:\n",
    "    print(\"Ese no lo tengo, ¿mola?\")\n",
    "else:\n",
    "    print(\"Lo tengo\")"
   ]
  },
  {
   "cell_type": "markdown",
   "metadata": {
    "id": "17YOpYuFRWxJ"
   },
   "source": [
    "## Ejercicio 10\n",
    "Convierte el programa del ejercicio 2 en una función al que se le pase el valor a buscar como un argumento posicional"
   ]
  },
  {
   "cell_type": "code",
   "execution_count": 30,
   "metadata": {
    "id": "xbj0LgvnRWxJ"
   },
   "outputs": [
    {
     "name": "stdout",
     "output_type": "stream",
     "text": [
      "árbol aparece en las posiciones\n",
      "1\n"
     ]
    }
   ],
   "source": [
    "def busca(*args):\n",
    "    for i in args:\n",
    "        print(i, \"aparece en las posiciones\")\n",
    "    for j in range(len(ejer_3)):\n",
    "        if i == ejer_3[j].lower():\n",
    "            print(j)\n",
    "\n",
    "busca(\"árbol\")"
   ]
  },
  {
   "cell_type": "markdown",
   "metadata": {
    "id": "xZ-sWJxPRWxJ"
   },
   "source": [
    "## Ejercicio 11\n",
    "Convierte el programa del ejercicio 9 en una función al que se le pasen como argumentos la librería, posicional, y el título, argumento keyword con valor \"ninguno\", por defecto."
   ]
  },
  {
   "cell_type": "code",
   "execution_count": 35,
   "metadata": {
    "id": "4-JrsMdNRWxK"
   },
   "outputs": [],
   "source": [
    "def biblioteca(*args, titulo = \"ninguno\",**kwargs ):\n",
    "    if dic1[\"titulo\"].count(args) == 0:\n",
    "        print(\"Ese no lo tengo, ¿mola?\")\n",
    "    else:\n",
    "        print(\"Lo tengo\")"
   ]
  },
  {
   "cell_type": "markdown",
   "metadata": {
    "id": "FtJir95QRWxK"
   },
   "source": [
    "## Ejercicio 12\n",
    "Solicitar al usuario que ingrese su dirección email. Imprimir un mensaje indicando si la dirección es válida o no, valiéndose de una función para decidirlo. Una dirección se considerará válida si contiene el símbolo \"@\"."
   ]
  },
  {
   "cell_type": "code",
   "execution_count": 37,
   "metadata": {
    "id": "sk852IZ8RWxK"
   },
   "outputs": [
    {
     "name": "stdin",
     "output_type": "stream",
     "text": [
      "Por favor, introduzca su dirección de e-mail: p@aco@p@aco\n"
     ]
    },
    {
     "name": "stdout",
     "output_type": "stream",
     "text": [
      "la dirección de e-mail no es correcta\n"
     ]
    }
   ],
   "source": [
    "em = input(\"Por favor, introduzca su dirección de e-mail:\")\n",
    "ok = em.count('@')\n",
    "if ok == 1:\n",
    "    print(\"e-mail registrado correctamente\")\n",
    "else:\n",
    "    print(\"la dirección de e-mail no es correcta\")"
   ]
  },
  {
   "cell_type": "markdown",
   "metadata": {
    "id": "Kw1MWBwBRWxK"
   },
   "source": [
    "## Ejercicio 13\n",
    "Escribe una función que compruebe si un DNI es válido, devolviendo `True` en caso afirmativo.  \n",
    "En primer lugar, el DNI debe tener entre 7 y 8 dígitos numéricos.  \n",
    "Para saber si la letra del DNI es correcta puedes utilizar el siguiente fragmento de código:\n",
    ">```Python\n",
    ">DNI= 55555555\n",
    ">palabra='TRWAGMYFPDXBNJZSQVHLCKE'\n",
    ">print('La letra del DNI es: ', palabra[DNI%23])\n",
    ">````\n"
   ]
  },
  {
   "cell_type": "code",
   "execution_count": 66,
   "metadata": {
    "id": "F5Z9rSHqRWxK"
   },
   "outputs": [
    {
     "name": "stdin",
     "output_type": "stream",
     "text": [
      "Introduce tu DNI: 22757720\n"
     ]
    },
    {
     "name": "stdout",
     "output_type": "stream",
     "text": [
      "La letra del DNI es:  W\n"
     ]
    }
   ],
   "source": [
    "palabra='TRWAGMYFPDXBNJZSQVHLCKE'\n",
    "def dni_ok(args):\n",
    "    ok = False\n",
    "    if len(args) >= 7 and len(args) <= 8:\n",
    "        cont = 0\n",
    "        for i in range(len(args)):\n",
    "            if args[i] < '0' or args[i] > '9':\n",
    "                cont = cont+1\n",
    "        if cont == 0:    \n",
    "            ok = True\n",
    "    if ok == True:\n",
    "        print('La letra del DNI es: ', palabra[int(args)%23])\n",
    "    else:\n",
    "        print(\"El DNI introducido no es válido\")\n",
    "        \n",
    "\n",
    "DNI = input(\"Introduce tu DNI:\")\n",
    "dni_ok(DNI)\n"
   ]
  }
 ],
 "metadata": {
  "colab": {
   "provenance": []
  },
  "kernelspec": {
   "display_name": "Python 3 (ipykernel)",
   "language": "python",
   "name": "python3"
  },
  "language_info": {
   "codemirror_mode": {
    "name": "ipython",
    "version": 3
   },
   "file_extension": ".py",
   "mimetype": "text/x-python",
   "name": "python",
   "nbconvert_exporter": "python",
   "pygments_lexer": "ipython3",
   "version": "3.13.1"
  }
 },
 "nbformat": 4,
 "nbformat_minor": 4
}
