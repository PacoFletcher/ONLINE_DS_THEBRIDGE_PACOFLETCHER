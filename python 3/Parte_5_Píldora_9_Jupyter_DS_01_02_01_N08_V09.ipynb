{
 "cells": [
  {
   "cell_type": "markdown",
   "metadata": {
    "id": "bFtqD-L0s3_x"
   },
   "source": [
    "![TheBridge_Python_v0.png](attachment:TheBridge_Python_v0.png)"
   ]
  },
  {
   "cell_type": "markdown",
   "metadata": {
    "id": "SXqxbzsas3_y"
   },
   "source": [
    "##  Argumentos variables\n"
   ]
  },
  {
   "cell_type": "markdown",
   "metadata": {
    "id": "B9Wqrz-As3_z"
   },
   "source": [
    "### Contenidos\n"
   ]
  },
  {
   "cell_type": "markdown",
   "metadata": {
    "id": "chgroch9s3_z"
   },
   "source": [
    "* [Introducción  ](#Introducción--)\n"
   ]
  },
  {
   "cell_type": "markdown",
   "metadata": {
    "id": "CFyH7NMls3_0"
   },
   "source": [
    "### Introducción  \n",
    "[al indice](#Contenidos)  \n",
    "En los ejemplos de la sesión anterior teníamos que fijar un número concreto de argumentos para nuestras funciones, pero hay ocasiones que no tenemos seguro cuántos argumentos son. Por suerte, las funciones de Python nos aportan esa flexibilidad mediante `*`\n",
    "\n",
    "Veamos cómo implementar una función multiplicadora con numero variable de argumentos"
   ]
  },
  {
   "cell_type": "code",
   "execution_count": 2,
   "metadata": {
    "id": "Lahz8c_1s3_0"
   },
   "outputs": [
    {
     "name": "stdout",
     "output_type": "stream",
     "text": [
      "(2, 3, 5)\n",
      "<class 'tuple'>\n",
      "(1, 2, 4, 67, 4)\n",
      "<class 'tuple'>\n"
     ]
    }
   ],
   "source": [
    "def multiplica(*argumentos):\n",
    "    print(argumentos)\n",
    "    print(type(argumentos))\n",
    "\n",
    "multiplica(2,3,5)\n",
    "multiplica(1,2,4,67,4)"
   ]
  },
  {
   "cell_type": "markdown",
   "metadata": {
    "id": "SDHcoSgls3_0"
   },
   "source": [
    "Ten en cuenta que `*args` es algo variable con X elementos. Como no sabemos a priori cuantos son, tendremos que recorrerlos con un `for`, y para cada argumento, aplicarle una operación. Por tanto, `*args` es un iterable, en concreto una **tupla**. Lo que le está dando la funcionalidad de \"argumentos variables\" es `*`, no `args`. Igual que ponemos `*args`, podemos poner `*argumentos`.\n",
    "\n",
    "Puedes combinar argumentos posicionales con los `*args`"
   ]
  },
  {
   "cell_type": "code",
   "execution_count": 3,
   "metadata": {
    "id": "n1n_xQvhs3_1"
   },
   "outputs": [
    {
     "name": "stdout",
     "output_type": "stream",
     "text": [
      "El resultado es: 40\n",
      "El resultado es: 276\n",
      "El resultado es: 1\n"
     ]
    },
    {
     "data": {
      "text/plain": [
       "1"
      ]
     },
     "execution_count": 3,
     "metadata": {},
     "output_type": "execute_result"
    }
   ],
   "source": [
    "# En este ejemplo, uso el ultimo argumento para dividir todo lo que habiamos multiplicado por este argumento\n",
    "def multiplica(*args):\n",
    "    resultado = 1\n",
    "    for i in args:\n",
    "        resultado = resultado*i\n",
    "    print(\"El resultado es:\", resultado)\n",
    "    return resultado\n",
    "\n",
    "multiplica(2,4,5)\n",
    "multiplica(23,12)\n",
    "multiplica()"
   ]
  },
  {
   "cell_type": "code",
   "execution_count": 4,
   "metadata": {},
   "outputs": [
    {
     "data": {
      "text/plain": [
       "1428.0"
      ]
     },
     "execution_count": 4,
     "metadata": {},
     "output_type": "execute_result"
    }
   ],
   "source": [
    "def multiplica_divide(*args, div):\n",
    "    resultado = 1\n",
    "    for i in args:\n",
    "        resultado = resultado*i\n",
    "    resultado = resultado/div\n",
    "    return resultado\n",
    "\n",
    "multiplica_divide(10,34,21, div = 5)"
   ]
  },
  {
   "cell_type": "code",
   "execution_count": 9,
   "metadata": {},
   "outputs": [
    {
     "data": {
      "text/plain": [
       "1428.0"
      ]
     },
     "execution_count": 9,
     "metadata": {},
     "output_type": "execute_result"
    }
   ],
   "source": [
    "def multiplica_divide(div, *args):\n",
    "    resultado = 1\n",
    "    for i in args:\n",
    "        resultado = resultado*i\n",
    "    resultado = resultado/div\n",
    "    return resultado\n",
    "\n",
    "multiplica_divide(5,10,34,21)"
   ]
  },
  {
   "cell_type": "code",
   "execution_count": 10,
   "metadata": {},
   "outputs": [
    {
     "ename": "TypeError",
     "evalue": "multiplica_divide() got multiple values for argument 'div'",
     "output_type": "error",
     "traceback": [
      "\u001b[1;31m---------------------------------------------------------------------------\u001b[0m",
      "\u001b[1;31mTypeError\u001b[0m                                 Traceback (most recent call last)",
      "Cell \u001b[1;32mIn[10], line 8\u001b[0m\n\u001b[0;32m      5\u001b[0m     resultado \u001b[38;5;241m=\u001b[39m resultado\u001b[38;5;241m/\u001b[39mdiv\n\u001b[0;32m      6\u001b[0m     \u001b[38;5;28;01mreturn\u001b[39;00m resultado\n\u001b[1;32m----> 8\u001b[0m \u001b[43mmultiplica_divide\u001b[49m\u001b[43m(\u001b[49m\u001b[38;5;241;43m10\u001b[39;49m\u001b[43m,\u001b[49m\u001b[38;5;241;43m34\u001b[39;49m\u001b[43m,\u001b[49m\u001b[38;5;241;43m21\u001b[39;49m\u001b[43m,\u001b[49m\u001b[43m \u001b[49m\u001b[43mdiv\u001b[49m\u001b[43m \u001b[49m\u001b[38;5;241;43m=\u001b[39;49m\u001b[43m \u001b[49m\u001b[38;5;241;43m5\u001b[39;49m\u001b[43m)\u001b[49m\n",
      "\u001b[1;31mTypeError\u001b[0m: multiplica_divide() got multiple values for argument 'div'"
     ]
    }
   ],
   "source": [
    "def multiplica_divide(div, *args):\n",
    "    resultado = 1\n",
    "    for i in args:\n",
    "        resultado = resultado*i\n",
    "    resultado = resultado/div\n",
    "    return resultado\n",
    "\n",
    "multiplica_divide(10,34,21, div = 5)"
   ]
  },
  {
   "cell_type": "markdown",
   "metadata": {
    "id": "NdF3rBoWs3_1"
   },
   "source": [
    "<table align=\"left\">\n",
    " <tr>\n",
    "     <td style=\"text-align:left\">\n",
    "         <h3>ERRORES con argumentos variables</h3>\n",
    "         \n",
    " </td></tr>\n",
    "</table>"
   ]
  },
  {
   "cell_type": "markdown",
   "metadata": {
    "id": "fPGi3W1Ns3_2"
   },
   "source": [
    "Declara los argumentos variables al principio, y los fijos al final para evitar errores. Además, si los combinas, tendrás que concretar cuáles son los argumentos fijos"
   ]
  },
  {
   "cell_type": "code",
   "execution_count": null,
   "metadata": {
    "id": "y8KHj8yBs3_2"
   },
   "outputs": [],
   "source": []
  },
  {
   "cell_type": "code",
   "execution_count": null,
   "metadata": {
    "id": "TxaX4ntGs3_2"
   },
   "outputs": [],
   "source": []
  }
 ],
 "metadata": {
  "colab": {
   "provenance": []
  },
  "kernelspec": {
   "display_name": "Python 3 (ipykernel)",
   "language": "python",
   "name": "python3"
  },
  "language_info": {
   "codemirror_mode": {
    "name": "ipython",
    "version": 3
   },
   "file_extension": ".py",
   "mimetype": "text/x-python",
   "name": "python",
   "nbconvert_exporter": "python",
   "pygments_lexer": "ipython3",
   "version": "3.13.1"
  }
 },
 "nbformat": 4,
 "nbformat_minor": 4
}
