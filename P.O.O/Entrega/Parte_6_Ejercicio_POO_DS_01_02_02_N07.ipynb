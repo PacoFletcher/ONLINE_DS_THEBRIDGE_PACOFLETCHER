{
 "cells": [
  {
   "cell_type": "markdown",
   "metadata": {
    "id": "vigJnuAMSU4x"
   },
   "source": [
    "![TheBridge_logo_RGB_color.jpg](attachment:TheBridge_logo_RGB_color.jpg)"
   ]
  },
  {
   "cell_type": "markdown",
   "metadata": {
    "id": "2xmnwM17SU4y"
   },
   "source": [
    "![ejercicios.png](attachment:ejercicios.png)"
   ]
  },
  {
   "cell_type": "markdown",
   "metadata": {
    "id": "liorA-1ZSU4y"
   },
   "source": [
    "# Ejercicios Clases y Objetos"
   ]
  },
  {
   "cell_type": "markdown",
   "metadata": {
    "id": "5xXUz5l9SU4z"
   },
   "source": [
    "## Ejercicio 1\n",
    "Somos una empresa que tiene varias tiendas de electrodomesticos. Necesitamos un programa para manejar las tiendas, ver las ventas que han tenido, cuántos empleados hay, etc... Para ello vamos a modelizar la tienda en una clase, que tendrá las siguientes características:\n",
    "* Nombre clase: \"Tienda\"\n",
    "* Atributos comunes:\n",
    "    * Tipo: \"Electrodomésticos\"\n",
    "    * Abierta: True\n",
    "* Atributos propios de cada tienda:\n",
    "    * Nombre - String\n",
    "    * Dirección - String\n",
    "    * Número de empleados - int\n",
    "    * Ventas ultimos 3 meses - Lista de 3 numeros\n",
    "* Método para calcular las ventas de todos los meses, que devuelva un numero con todas las ventas.\n",
    "* Método que calcula la media de ventas de los ultimos meses, por empleado\n",
    "* Método que devuelve en un string el nombre de la tienda, junto con su dirección.\n",
    "* Método que obtiene las ventas del último mes.\n",
    "* Método para dar una proyección de las ventas en caso de haber invertido X dinero en marketing en esa tienda. Siendo X el parámetro de entrada. Si X es menor de 1000, las ventas de los ultimos 3 meses hubiesen sido de (1.2 x ventas), si es mayor o igual de 1000, las ventas hubiesen sido de (1.5 x venta). El método reescribe el atributo de ventas en los últimos 3 meses, y además devuelve las ventas con el aumento.\n",
    "\n",
    "Se pide:\n",
    "1. Implementar la clase \"Tienda\"\n",
    "2. Crear tres tiendas con datos inventados\n",
    "3. Comprueba en al menos una de ellas, todo lo implementado en la clase tienda (sus atributos, media de ventas, ventas/empleado...)\n",
    "3. Calcular las ventas del último mes de todas las tiendas. Para ello usa el bucle `for`\n",
    "4. Imprime por pantalla los nombres de las tiendas cuya dirección lleve el string \"Avenida\"\n",
    "5. Seguro que ya has hecho este apartado... Documenta la clase :)"
   ]
  },
  {
   "cell_type": "code",
   "execution_count": 24,
   "metadata": {
    "id": "5cLQcLxfSU4z"
   },
   "outputs": [
    {
     "name": "stdout",
     "output_type": "stream",
     "text": [
      "Nombre de la tienda:  Alta Tensión\n",
      "Dirección de la tienda:  Avenida Tesla, 2\n",
      "Número de empleados:  6\n",
      "Ventas últimos 3 meses:  [100, 110, 105]\n",
      "Ventas totales:  315\n",
      "Ventas por empleado:  [16.666666666666668, 18.333333333333332, 17.5]\n",
      "Ventas último mes:  105\n",
      "Previsión de ventas:  [150.0, 165.0, 157.5]\n",
      "Ventas totales del último mes: \n",
      "209.5\n",
      "Tiendas en avenidas: \n",
      "Alta Tensión\n"
     ]
    }
   ],
   "source": [
    "# Apartado 1:\n",
    "class Tienda:\n",
    "    #Establecemos atributos comunes de la clase\n",
    "    tipo = \"Electrodomésticos\"\n",
    "    abierta = True\n",
    "\n",
    "    #Establecemos atributos variables de la clase\n",
    "    def __init__(self, nombre_tienda, direc_tienda, empleo_tienda, ventas_tienda):\n",
    "        self.nombre = nombre_tienda\n",
    "        self.direc = direc_tienda\n",
    "        self.empleo = empleo_tienda\n",
    "        self.ventas = ventas_tienda\n",
    "\n",
    "    #Calculamos las ventas totales de una tienda\n",
    "    def tot_ventas(self):\n",
    "        total = 0\n",
    "        for i in self.ventas:\n",
    "            total = total + i\n",
    "        return total\n",
    "\n",
    "    # Calculamos un promedio de ventas mensuales por emepleado\n",
    "    def ventas_empleo(self):\n",
    "        media = []\n",
    "        for i in range(len(self.ventas)):\n",
    "            media.append(self.ventas[i]/self.empleo)\n",
    "        return media\n",
    "\n",
    "    # ¿Cuántas ventas realizó una tienda el último mes?\n",
    "    def ultimo_mes(self):\n",
    "        return self.ventas[-1]\n",
    "\n",
    "    # ¿Qué pasaría si hubiésemos invertido en mejorar el rendimiento de la tienda?\n",
    "    # ATENCIÓN: Esta función modifica el vector inicial de ventas\n",
    "    def prevision_ventas(self, inversion):\n",
    "        if inversion < 1000:\n",
    "            for i in range(len(self.ventas)):\n",
    "                self.ventas[i] = self.ventas[i]*1.2\n",
    "        else:\n",
    "            for i in range(len(self.ventas)):\n",
    "                self.ventas[i] = self.ventas[i]*1.5\n",
    "        return self.ventas\n",
    "            \n",
    "\n",
    "    \n",
    "# Creamos las tres tiendas que plantea el apartado 2:\n",
    "altatension = Tienda(\"Alta Tensión\", \"Avenida Tesla, 2\", 6, [100, 110, 105])\n",
    "bajatension = Tienda(\"Baja Tensión\", \"Calle Maxwell, 5\", 3, [50, 105, 52])\n",
    "sinluz = Tienda(\"Sin Luz\", \"Paseo Inquisición, 1\", 1, [0,0,0])\n",
    "\n",
    "# Comprobamos los atributos de una de las tiendas (apartado 3):\n",
    "print(\"Nombre de la tienda: \", altatension.nombre)\n",
    "print(\"Dirección de la tienda: \", altatension.direc)\n",
    "print(\"Número de empleados: \", altatension.empleo)\n",
    "print(\"Ventas últimos 3 meses: \", altatension.ventas)\n",
    "print(\"Ventas totales: \", altatension.tot_ventas())\n",
    "print(\"Ventas por empleado: \", altatension.ventas_empleo())\n",
    "print(\"Ventas último mes: \", altatension.ultimo_mes())\n",
    "print(\"Previsión de ventas: \",altatension.prevision_ventas(1500))\n",
    "\n",
    "# Apartado 4:\n",
    "print(\"Ventas totales del último mes: \")\n",
    "listado = [altatension, bajatension, sinluz]\n",
    "suma = 0\n",
    "for i in listado:\n",
    "    suma = suma + i.ventas[-1]\n",
    "print(suma)\n",
    "\n",
    "# Apartado 5\n",
    "print(\"Tiendas en avenidas: \")\n",
    "for i in listado:\n",
    "    if \"Avenida\" in i.direc:\n",
    "        print(i.nombre)\n"
   ]
  },
  {
   "cell_type": "code",
   "execution_count": null,
   "metadata": {},
   "outputs": [],
   "source": []
  },
  {
   "cell_type": "markdown",
   "metadata": {
    "id": "WEBq7EpsSU40"
   },
   "source": [
    "## Ejercicio 2\n",
    "En este ejercicio vamos a implementar una clase *Perro* en Python. La clase tiene las siguientes características:\n",
    "* Cosas que sabemos seguro que tiene un perro\n",
    "    * Tiene 4 patas\n",
    "    * 2 orejas\n",
    "    * 2 ojos\n",
    "    * Una velocidad de 0. Por defecto, el perro está parado\n",
    "* Cuando se inicialice:\n",
    "    * El perro será de una determinada raza\n",
    "    * Por defecto tendrá pelo \"Marrón\", a no ser que se diga lo contrario.\n",
    "    * Por defecto no tendrá dueño, a no ser que se diga lo contrario.\n",
    "    \n",
    "* Dispondrá también de un método llamado andar, que tiene un argumento de entrada (aumento_velocidad). Este valor se le sumará a la velocidad que ya llevaba el perro.\n",
    "* Necesita otro método (parar), donde pondremos la velocidad a 0.\n",
    "* Otro método llamado \"ladrar\", que tendrá un argumento de entrada, y la salida será el siguiente string: \"GUAU!\" + el argumento de entrada.\n",
    "\n",
    "\n",
    "Se pide:\n",
    "* Implementa la clase *Perro*\n",
    "* Crea un objeto de tipo *Perro*, sin dueño\n",
    "* Comprueba que están bien todos sus atributos\n",
    "* Prueba que ande, y comprueba su velocidad\n",
    "* Páralo\n",
    "* Documenta la clase *Perro*"
   ]
  },
  {
   "cell_type": "code",
   "execution_count": 31,
   "metadata": {
    "id": "DpEWvbwGSU40"
   },
   "outputs": [
    {
     "name": "stdout",
     "output_type": "stream",
     "text": [
      "El perro tiene 4 patas\n",
      "El perro tiene 2 orejas\n",
      "El perro tiene 2 ojos\n",
      "La raza del perro es: Mestizo\n",
      "El pelaje del perro es: Blanco\n",
      "El perro tiene dueño: False\n",
      "El perro se esta moviendo a una velocidad de: 0 unidades/tiempo\n",
      "El perro se esta moviendo a una velocidad de: 4 unidades/tiempo\n",
      "El perro se esta moviendo a una velocidad de: 0 unidades/tiempo\n"
     ]
    }
   ],
   "source": [
    "#Apartado 1\n",
    "class Perro:\n",
    "    #Atributos comunes\n",
    "    patas = 4\n",
    "    orejas = 2\n",
    "    ojos = 2\n",
    "\n",
    "    #Atributos variables\n",
    "    def __init__(self, raza, pelaje, dueño = False, velocidad = 0):\n",
    "        self.velocidad = velocidad\n",
    "        self.raza = raza\n",
    "        self.pelaje = pelaje\n",
    "        self.dueño = dueño\n",
    "\n",
    "    #Aumento de velocidad\n",
    "    def andar(self, aumento_velocidad):\n",
    "        self.velocidad = self.velocidad + aumento_velocidad \n",
    "        return self.velocidad\n",
    "\n",
    "    #El perro se detiene\n",
    "    def parar(self):\n",
    "        self.velocidad = 0\n",
    "\n",
    "    #El perro ladra y se comunica\n",
    "    def ladrar(self, *args):\n",
    "        print(\"GUAU! \", args)\n",
    "\n",
    "#Apartado 2:\n",
    "callejero = Perro(\"Mestizo\", \"Blanco\")\n",
    "\n",
    "#Apartado 3:\n",
    "print(\"El perro tiene\", callejero.patas, \"patas\")\n",
    "print(\"El perro tiene\", callejero.orejas, \"orejas\")\n",
    "print(\"El perro tiene\", callejero.ojos, \"ojos\")\n",
    "print(\"La raza del perro es:\", callejero.raza)\n",
    "print(\"El pelaje del perro es:\", callejero.pelaje)\n",
    "print(\"El perro tiene dueño:\", callejero.dueño)\n",
    "print(\"El perro se esta moviendo a una velocidad de:\", callejero.velocidad, \"unidades/tiempo\")\n",
    "\n",
    "#Apartado 4:\n",
    "callejero.andar(4)\n",
    "print(\"El perro se esta moviendo a una velocidad de:\", callejero.velocidad, \"unidades/tiempo\")\n",
    "\n",
    "#Apartado 5:\n",
    "callejero.parar()\n",
    "print(\"El perro se esta moviendo a una velocidad de:\", callejero.velocidad, \"unidades/tiempo\")"
   ]
  }
 ],
 "metadata": {
  "colab": {
   "provenance": []
  },
  "kernelspec": {
   "display_name": "Python 3 (ipykernel)",
   "language": "python",
   "name": "python3"
  },
  "language_info": {
   "codemirror_mode": {
    "name": "ipython",
    "version": 3
   },
   "file_extension": ".py",
   "mimetype": "text/x-python",
   "name": "python",
   "nbconvert_exporter": "python",
   "pygments_lexer": "ipython3",
   "version": "3.13.1"
  }
 },
 "nbformat": 4,
 "nbformat_minor": 4
}
